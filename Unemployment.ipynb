{
  "nbformat": 4,
  "nbformat_minor": 0,
  "metadata": {
    "colab": {
      "provenance": [],
      "toc_visible": true,
      "authorship_tag": "ABX9TyMdoMpTWW5c5gfq0vCOh/cL",
      "include_colab_link": true
    },
    "kernelspec": {
      "name": "python3",
      "display_name": "Python 3"
    },
    "language_info": {
      "name": "python"
    }
  },
  "cells": [
    {
      "cell_type": "markdown",
      "metadata": {
        "id": "view-in-github",
        "colab_type": "text"
      },
      "source": [
        "<a href=\"https://colab.research.google.com/github/msamanta-13/MousumiSamanta/blob/main/Unemployment.ipynb\" target=\"_parent\"><img src=\"https://colab.research.google.com/assets/colab-badge.svg\" alt=\"Open In Colab\"/></a>"
      ]
    },
    {
      "cell_type": "markdown",
      "source": [
        "# **Unemployment Analysis with Python**"
      ],
      "metadata": {
        "id": "sBsipybkwKaj"
      }
    },
    {
      "cell_type": "markdown",
      "source": [
        "**About the project**"
      ],
      "metadata": {
        "id": "yVBBBliWwY13"
      }
    },
    {
      "cell_type": "markdown",
      "source": [
        "Analysing the Unemployment Rate in accordance with Date, Region and Area."
      ],
      "metadata": {
        "id": "nhGd5ztCwlg0"
      }
    },
    {
      "cell_type": "markdown",
      "source": [
        "**Input:-**"
      ],
      "metadata": {
        "id": "H1HBXXcTxOKx"
      }
    },
    {
      "cell_type": "markdown",
      "source": [
        "Region, Date, Frequency, Estimated Unemployment Rate, Estimated Employed, Estimated Labour Participation Rate and Area."
      ],
      "metadata": {
        "id": "sMFvTsCAxWRW"
      }
    },
    {
      "cell_type": "markdown",
      "source": [
        "**Output:-**"
      ],
      "metadata": {
        "id": "UoaKiiLWx59N"
      }
    },
    {
      "cell_type": "markdown",
      "source": [
        "Analysis of Unemployment Rate and Plotting it in the form of graphs."
      ],
      "metadata": {
        "id": "GcJllqZHx81s"
      }
    },
    {
      "cell_type": "markdown",
      "source": [
        "**Aim**"
      ],
      "metadata": {
        "id": "MMgI_BubyKyP"
      }
    },
    {
      "cell_type": "markdown",
      "source": [
        "To analysis the Unemployment dataset to find the Unemployment Rate in accordance with Date, Region and Area."
      ],
      "metadata": {
        "id": "3WmM1gmPyOCz"
      }
    },
    {
      "cell_type": "markdown",
      "source": [
        "The Unemployment dataset has 7 columns with 754 datas. The main aim is to develop a Machine Learning Model using Python, which helps to analysis the Unemploymenmt Rate with the help of other factors like Date, Region or Area. This Model will help to segregate the Unemployment rate."
      ],
      "metadata": {
        "id": "67mUWkIbOD6M"
      }
    },
    {
      "cell_type": "markdown",
      "source": [
        "**Importing libraries**"
      ],
      "metadata": {
        "id": "FwxqI5rwU9zi"
      }
    },
    {
      "cell_type": "code",
      "source": [
        "import pandas as pd\n",
        "import matplotlib.pyplot as plt\n",
        "import seaborn as sns"
      ],
      "metadata": {
        "id": "baIVdGKAr_6k"
      },
      "execution_count": 32,
      "outputs": []
    },
    {
      "cell_type": "markdown",
      "source": [
        "**Load the dataset**"
      ],
      "metadata": {
        "id": "obB9oCkWnu-_"
      }
    },
    {
      "cell_type": "code",
      "source": [
        "data = pd.read_csv(r'unemployment.csv')\n",
        "data.head()"
      ],
      "metadata": {
        "colab": {
          "base_uri": "https://localhost:8080/",
          "height": 247
        },
        "id": "q6i8bJESsJVL",
        "outputId": "0810112e-2f39-475d-eee1-b3752908d225"
      },
      "execution_count": 33,
      "outputs": [
        {
          "output_type": "execute_result",
          "data": {
            "text/plain": [
              "           Region         Date  Frequency   Estimated Unemployment Rate (%)  \\\n",
              "0  Andhra Pradesh   31-05-2019    Monthly                              3.65   \n",
              "1  Andhra Pradesh   30-06-2019    Monthly                              3.05   \n",
              "2  Andhra Pradesh   31-07-2019    Monthly                              3.75   \n",
              "3  Andhra Pradesh   31-08-2019    Monthly                              3.32   \n",
              "4  Andhra Pradesh   30-09-2019    Monthly                              5.17   \n",
              "\n",
              "    Estimated Employed   Estimated Labour Participation Rate (%)   Area  \n",
              "0           11999139.0                                     43.24  Rural  \n",
              "1           11755881.0                                     42.05  Rural  \n",
              "2           12086707.0                                     43.50  Rural  \n",
              "3           12285693.0                                     43.97  Rural  \n",
              "4           12256762.0                                     44.68  Rural  "
            ],
            "text/html": [
              "\n",
              "\n",
              "  <div id=\"df-d8e1208f-b057-446d-9d74-fbe6c8fc39fc\">\n",
              "    <div class=\"colab-df-container\">\n",
              "      <div>\n",
              "<style scoped>\n",
              "    .dataframe tbody tr th:only-of-type {\n",
              "        vertical-align: middle;\n",
              "    }\n",
              "\n",
              "    .dataframe tbody tr th {\n",
              "        vertical-align: top;\n",
              "    }\n",
              "\n",
              "    .dataframe thead th {\n",
              "        text-align: right;\n",
              "    }\n",
              "</style>\n",
              "<table border=\"1\" class=\"dataframe\">\n",
              "  <thead>\n",
              "    <tr style=\"text-align: right;\">\n",
              "      <th></th>\n",
              "      <th>Region</th>\n",
              "      <th>Date</th>\n",
              "      <th>Frequency</th>\n",
              "      <th>Estimated Unemployment Rate (%)</th>\n",
              "      <th>Estimated Employed</th>\n",
              "      <th>Estimated Labour Participation Rate (%)</th>\n",
              "      <th>Area</th>\n",
              "    </tr>\n",
              "  </thead>\n",
              "  <tbody>\n",
              "    <tr>\n",
              "      <th>0</th>\n",
              "      <td>Andhra Pradesh</td>\n",
              "      <td>31-05-2019</td>\n",
              "      <td>Monthly</td>\n",
              "      <td>3.65</td>\n",
              "      <td>11999139.0</td>\n",
              "      <td>43.24</td>\n",
              "      <td>Rural</td>\n",
              "    </tr>\n",
              "    <tr>\n",
              "      <th>1</th>\n",
              "      <td>Andhra Pradesh</td>\n",
              "      <td>30-06-2019</td>\n",
              "      <td>Monthly</td>\n",
              "      <td>3.05</td>\n",
              "      <td>11755881.0</td>\n",
              "      <td>42.05</td>\n",
              "      <td>Rural</td>\n",
              "    </tr>\n",
              "    <tr>\n",
              "      <th>2</th>\n",
              "      <td>Andhra Pradesh</td>\n",
              "      <td>31-07-2019</td>\n",
              "      <td>Monthly</td>\n",
              "      <td>3.75</td>\n",
              "      <td>12086707.0</td>\n",
              "      <td>43.50</td>\n",
              "      <td>Rural</td>\n",
              "    </tr>\n",
              "    <tr>\n",
              "      <th>3</th>\n",
              "      <td>Andhra Pradesh</td>\n",
              "      <td>31-08-2019</td>\n",
              "      <td>Monthly</td>\n",
              "      <td>3.32</td>\n",
              "      <td>12285693.0</td>\n",
              "      <td>43.97</td>\n",
              "      <td>Rural</td>\n",
              "    </tr>\n",
              "    <tr>\n",
              "      <th>4</th>\n",
              "      <td>Andhra Pradesh</td>\n",
              "      <td>30-09-2019</td>\n",
              "      <td>Monthly</td>\n",
              "      <td>5.17</td>\n",
              "      <td>12256762.0</td>\n",
              "      <td>44.68</td>\n",
              "      <td>Rural</td>\n",
              "    </tr>\n",
              "  </tbody>\n",
              "</table>\n",
              "</div>\n",
              "      <button class=\"colab-df-convert\" onclick=\"convertToInteractive('df-d8e1208f-b057-446d-9d74-fbe6c8fc39fc')\"\n",
              "              title=\"Convert this dataframe to an interactive table.\"\n",
              "              style=\"display:none;\">\n",
              "\n",
              "  <svg xmlns=\"http://www.w3.org/2000/svg\" height=\"24px\"viewBox=\"0 0 24 24\"\n",
              "       width=\"24px\">\n",
              "    <path d=\"M0 0h24v24H0V0z\" fill=\"none\"/>\n",
              "    <path d=\"M18.56 5.44l.94 2.06.94-2.06 2.06-.94-2.06-.94-.94-2.06-.94 2.06-2.06.94zm-11 1L8.5 8.5l.94-2.06 2.06-.94-2.06-.94L8.5 2.5l-.94 2.06-2.06.94zm10 10l.94 2.06.94-2.06 2.06-.94-2.06-.94-.94-2.06-.94 2.06-2.06.94z\"/><path d=\"M17.41 7.96l-1.37-1.37c-.4-.4-.92-.59-1.43-.59-.52 0-1.04.2-1.43.59L10.3 9.45l-7.72 7.72c-.78.78-.78 2.05 0 2.83L4 21.41c.39.39.9.59 1.41.59.51 0 1.02-.2 1.41-.59l7.78-7.78 2.81-2.81c.8-.78.8-2.07 0-2.86zM5.41 20L4 18.59l7.72-7.72 1.47 1.35L5.41 20z\"/>\n",
              "  </svg>\n",
              "      </button>\n",
              "\n",
              "\n",
              "\n",
              "    <div id=\"df-f4f1790d-a7dd-4314-95e0-560e7cf67692\">\n",
              "      <button class=\"colab-df-quickchart\" onclick=\"quickchart('df-f4f1790d-a7dd-4314-95e0-560e7cf67692')\"\n",
              "              title=\"Suggest charts.\"\n",
              "              style=\"display:none;\">\n",
              "\n",
              "<svg xmlns=\"http://www.w3.org/2000/svg\" height=\"24px\"viewBox=\"0 0 24 24\"\n",
              "     width=\"24px\">\n",
              "    <g>\n",
              "        <path d=\"M19 3H5c-1.1 0-2 .9-2 2v14c0 1.1.9 2 2 2h14c1.1 0 2-.9 2-2V5c0-1.1-.9-2-2-2zM9 17H7v-7h2v7zm4 0h-2V7h2v10zm4 0h-2v-4h2v4z\"/>\n",
              "    </g>\n",
              "</svg>\n",
              "      </button>\n",
              "    </div>\n",
              "\n",
              "<style>\n",
              "  .colab-df-quickchart {\n",
              "    background-color: #E8F0FE;\n",
              "    border: none;\n",
              "    border-radius: 50%;\n",
              "    cursor: pointer;\n",
              "    display: none;\n",
              "    fill: #1967D2;\n",
              "    height: 32px;\n",
              "    padding: 0 0 0 0;\n",
              "    width: 32px;\n",
              "  }\n",
              "\n",
              "  .colab-df-quickchart:hover {\n",
              "    background-color: #E2EBFA;\n",
              "    box-shadow: 0px 1px 2px rgba(60, 64, 67, 0.3), 0px 1px 3px 1px rgba(60, 64, 67, 0.15);\n",
              "    fill: #174EA6;\n",
              "  }\n",
              "\n",
              "  [theme=dark] .colab-df-quickchart {\n",
              "    background-color: #3B4455;\n",
              "    fill: #D2E3FC;\n",
              "  }\n",
              "\n",
              "  [theme=dark] .colab-df-quickchart:hover {\n",
              "    background-color: #434B5C;\n",
              "    box-shadow: 0px 1px 3px 1px rgba(0, 0, 0, 0.15);\n",
              "    filter: drop-shadow(0px 1px 2px rgba(0, 0, 0, 0.3));\n",
              "    fill: #FFFFFF;\n",
              "  }\n",
              "</style>\n",
              "\n",
              "    <script>\n",
              "      async function quickchart(key) {\n",
              "        const containerElement = document.querySelector('#' + key);\n",
              "        const charts = await google.colab.kernel.invokeFunction(\n",
              "            'suggestCharts', [key], {});\n",
              "      }\n",
              "    </script>\n",
              "\n",
              "      <script>\n",
              "\n",
              "function displayQuickchartButton(domScope) {\n",
              "  let quickchartButtonEl =\n",
              "    domScope.querySelector('#df-f4f1790d-a7dd-4314-95e0-560e7cf67692 button.colab-df-quickchart');\n",
              "  quickchartButtonEl.style.display =\n",
              "    google.colab.kernel.accessAllowed ? 'block' : 'none';\n",
              "}\n",
              "\n",
              "        displayQuickchartButton(document);\n",
              "      </script>\n",
              "      <style>\n",
              "    .colab-df-container {\n",
              "      display:flex;\n",
              "      flex-wrap:wrap;\n",
              "      gap: 12px;\n",
              "    }\n",
              "\n",
              "    .colab-df-convert {\n",
              "      background-color: #E8F0FE;\n",
              "      border: none;\n",
              "      border-radius: 50%;\n",
              "      cursor: pointer;\n",
              "      display: none;\n",
              "      fill: #1967D2;\n",
              "      height: 32px;\n",
              "      padding: 0 0 0 0;\n",
              "      width: 32px;\n",
              "    }\n",
              "\n",
              "    .colab-df-convert:hover {\n",
              "      background-color: #E2EBFA;\n",
              "      box-shadow: 0px 1px 2px rgba(60, 64, 67, 0.3), 0px 1px 3px 1px rgba(60, 64, 67, 0.15);\n",
              "      fill: #174EA6;\n",
              "    }\n",
              "\n",
              "    [theme=dark] .colab-df-convert {\n",
              "      background-color: #3B4455;\n",
              "      fill: #D2E3FC;\n",
              "    }\n",
              "\n",
              "    [theme=dark] .colab-df-convert:hover {\n",
              "      background-color: #434B5C;\n",
              "      box-shadow: 0px 1px 3px 1px rgba(0, 0, 0, 0.15);\n",
              "      filter: drop-shadow(0px 1px 2px rgba(0, 0, 0, 0.3));\n",
              "      fill: #FFFFFF;\n",
              "    }\n",
              "  </style>\n",
              "\n",
              "      <script>\n",
              "        const buttonEl =\n",
              "          document.querySelector('#df-d8e1208f-b057-446d-9d74-fbe6c8fc39fc button.colab-df-convert');\n",
              "        buttonEl.style.display =\n",
              "          google.colab.kernel.accessAllowed ? 'block' : 'none';\n",
              "\n",
              "        async function convertToInteractive(key) {\n",
              "          const element = document.querySelector('#df-d8e1208f-b057-446d-9d74-fbe6c8fc39fc');\n",
              "          const dataTable =\n",
              "            await google.colab.kernel.invokeFunction('convertToInteractive',\n",
              "                                                     [key], {});\n",
              "          if (!dataTable) return;\n",
              "\n",
              "          const docLinkHtml = 'Like what you see? Visit the ' +\n",
              "            '<a target=\"_blank\" href=https://colab.research.google.com/notebooks/data_table.ipynb>data table notebook</a>'\n",
              "            + ' to learn more about interactive tables.';\n",
              "          element.innerHTML = '';\n",
              "          dataTable['output_type'] = 'display_data';\n",
              "          await google.colab.output.renderOutput(dataTable, element);\n",
              "          const docLink = document.createElement('div');\n",
              "          docLink.innerHTML = docLinkHtml;\n",
              "          element.appendChild(docLink);\n",
              "        }\n",
              "      </script>\n",
              "    </div>\n",
              "  </div>\n"
            ]
          },
          "metadata": {},
          "execution_count": 33
        }
      ]
    },
    {
      "cell_type": "markdown",
      "source": [
        "**Data cleaning and preprocessing**"
      ],
      "metadata": {
        "id": "aS6eaoy3qwdx"
      }
    },
    {
      "cell_type": "code",
      "source": [
        "data['Date'] = pd.to_datetime(data[' Date'])  # Convert 'Date' column to datetime format\n",
        "data.set_index('Date', inplace=True)  # Set 'Date' as the index"
      ],
      "metadata": {
        "id": "Vg5yhHVTsb19"
      },
      "execution_count": 15,
      "outputs": []
    },
    {
      "cell_type": "markdown",
      "source": [
        "**Plotting the unemployment rate over time**"
      ],
      "metadata": {
        "id": "TXb-B4Xjq1Zs"
      }
    },
    {
      "cell_type": "code",
      "source": [
        "plt.figure(figsize=(10, 6))\n",
        "data[' Estimated Unemployment Rate (%)'].plot(marker='o')\n",
        "plt.title('Unemployment Rate Over Time')\n",
        "plt.xlabel('Date')\n",
        "plt.ylabel('Unemployment Rate')\n",
        "plt.grid(True)\n",
        "plt.show()"
      ],
      "metadata": {
        "colab": {
          "base_uri": "https://localhost:8080/",
          "height": 537
        },
        "id": "efQTXNb_sxZf",
        "outputId": "1c305d82-c799-47bf-b34f-835cffb1c64f"
      },
      "execution_count": 16,
      "outputs": [
        {
          "output_type": "display_data",
          "data": {
            "text/plain": [
              "<Figure size 1000x600 with 1 Axes>"
            ],
            "image/png": "[encoded data removed]"
          },
          "metadata": {}
        }
      ]
    },
    {
      "cell_type": "markdown",
      "source": [
        "**Summary statistics**"
      ],
      "metadata": {
        "id": "oL6i8Tr8q8XQ"
      }
    },
    {
      "cell_type": "code",
      "source": [
        "print(\"Summary Statistics:\")\n",
        "print(data.describe())"
      ],
      "metadata": {
        "colab": {
          "base_uri": "https://localhost:8080/"
        },
        "id": "3LHAHZgquC99",
        "outputId": "8dfbcf29-d58e-4ae7-c2af-9420a67b3129"
      },
      "execution_count": 17,
      "outputs": [
        {
          "output_type": "stream",
          "name": "stdout",
          "text": [
            "Summary Statistics:\n",
            "        Estimated Unemployment Rate (%)   Estimated Employed  \\\n",
            "count                        740.000000         7.400000e+02   \n",
            "mean                          11.787946         7.204460e+06   \n",
            "std                           10.721298         8.087988e+06   \n",
            "min                            0.000000         4.942000e+04   \n",
            "25%                            4.657500         1.190404e+06   \n",
            "50%                            8.350000         4.744178e+06   \n",
            "75%                           15.887500         1.127549e+07   \n",
            "max                           76.740000         4.577751e+07   \n",
            "\n",
            "        Estimated Labour Participation Rate (%)  \n",
            "count                                740.000000  \n",
            "mean                                  42.630122  \n",
            "std                                    8.111094  \n",
            "min                                   13.330000  \n",
            "25%                                   38.062500  \n",
            "50%                                   41.160000  \n",
            "75%                                   45.505000  \n",
            "max                                   72.570000  \n"
          ]
        }
      ]
    },
    {
      "cell_type": "markdown",
      "source": [
        "**Grouping data by State and calculating average unemployment rate**"
      ],
      "metadata": {
        "id": "jFv82cRNrDeo"
      }
    },
    {
      "cell_type": "code",
      "source": [
        "state_avg_unemployment = data.groupby('Region')[' Estimated Unemployment Rate (%)'].mean()\n",
        "print(\"\\nAverage Unemployment Rate by Region:\")\n",
        "print(state_avg_unemployment)"
      ],
      "metadata": {
        "colab": {
          "base_uri": "https://localhost:8080/"
        },
        "id": "nZeQ8DuAuHdt",
        "outputId": "52213dcb-7d5f-42f7-be73-3670af6aae13"
      },
      "execution_count": 18,
      "outputs": [
        {
          "output_type": "stream",
          "name": "stdout",
          "text": [
            "\n",
            "Average Unemployment Rate by Region:\n",
            "Region\n",
            "Andhra Pradesh       7.477143\n",
            "Assam                6.428077\n",
            "Bihar               18.918214\n",
            "Chandigarh          15.991667\n",
            "Chhattisgarh         9.240357\n",
            "Delhi               16.495357\n",
            "Goa                  9.274167\n",
            "Gujarat              6.663929\n",
            "Haryana             26.283214\n",
            "Himachal Pradesh    18.540357\n",
            "Jammu & Kashmir     16.188571\n",
            "Jharkhand           20.585000\n",
            "Karnataka            6.676071\n",
            "Kerala              10.123929\n",
            "Madhya Pradesh       7.406429\n",
            "Maharashtra          7.557500\n",
            "Meghalaya            4.798889\n",
            "Odisha               5.657857\n",
            "Puducherry          10.215000\n",
            "Punjab              12.031071\n",
            "Rajasthan           14.058214\n",
            "Sikkim               7.249412\n",
            "Tamil Nadu           9.284286\n",
            "Telangana            7.737857\n",
            "Tripura             28.350357\n",
            "Uttar Pradesh       12.551429\n",
            "Uttarakhand          6.582963\n",
            "West Bengal          8.124643\n",
            "Name:  Estimated Unemployment Rate (%), dtype: float64\n"
          ]
        }
      ]
    },
    {
      "cell_type": "markdown",
      "source": [
        "**Grouping data by Area and calculating average unemployment rate**"
      ],
      "metadata": {
        "id": "FWUlK_ujrM8W"
      }
    },
    {
      "cell_type": "code",
      "source": [
        "area_avg_unemployment = data.groupby('Area')[' Estimated Unemployment Rate (%)'].mean()\n",
        "print(\"\\nAverage Unemployment Rate by Area:\")\n",
        "print(area_avg_unemployment)"
      ],
      "metadata": {
        "colab": {
          "base_uri": "https://localhost:8080/"
        },
        "id": "vUfS62OjuSmG",
        "outputId": "afe24e1b-a6d7-44c9-99af-916408dbbefa"
      },
      "execution_count": 19,
      "outputs": [
        {
          "output_type": "stream",
          "name": "stdout",
          "text": [
            "\n",
            "Average Unemployment Rate by Area:\n",
            "Area\n",
            "Rural    10.324791\n",
            "Urban    13.166614\n",
            "Name:  Estimated Unemployment Rate (%), dtype: float64\n"
          ]
        }
      ]
    }
  ]
}